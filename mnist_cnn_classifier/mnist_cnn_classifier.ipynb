{
 "cells": [
  {
   "cell_type": "code",
   "execution_count": null,
   "id": "5dc9d5fd-52db-4a50-8ec7-a962516b8590",
   "metadata": {},
   "outputs": [],
   "source": []
  }
 ],
 "metadata": {
  "kernelspec": {
   "display_name": "",
   "name": ""
  },
  "language_info": {
   "name": ""
  }
 },
 "nbformat": 4,
 "nbformat_minor": 5
}
