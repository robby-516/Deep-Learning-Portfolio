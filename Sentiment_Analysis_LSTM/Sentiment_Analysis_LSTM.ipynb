{
 "cells": [
  {
   "cell_type": "code",
   "execution_count": 2,
   "id": "926d120f-66fe-4ac7-b897-1fb20c7de0df",
   "metadata": {},
   "outputs": [
    {
     "name": "stdout",
     "output_type": "stream",
     "text": [
      "Epoch 1/5\n",
      "\u001b[1m313/313\u001b[0m \u001b[32m━━━━━━━━━━━━━━━━━━━━\u001b[0m\u001b[37m\u001b[0m \u001b[1m48s\u001b[0m 143ms/step - accuracy: 0.7916 - loss: 0.4400 - val_accuracy: 0.8626 - val_loss: 0.3257\n",
      "Epoch 2/5\n",
      "\u001b[1m313/313\u001b[0m \u001b[32m━━━━━━━━━━━━━━━━━━━━\u001b[0m\u001b[37m\u001b[0m \u001b[1m53s\u001b[0m 169ms/step - accuracy: 0.8972 - loss: 0.2583 - val_accuracy: 0.8480 - val_loss: 0.3406\n",
      "Epoch 3/5\n",
      "\u001b[1m313/313\u001b[0m \u001b[32m━━━━━━━━━━━━━━━━━━━━\u001b[0m\u001b[37m\u001b[0m \u001b[1m65s\u001b[0m 208ms/step - accuracy: 0.9282 - loss: 0.1896 - val_accuracy: 0.8714 - val_loss: 0.3233\n",
      "Epoch 4/5\n",
      "\u001b[1m313/313\u001b[0m \u001b[32m━━━━━━━━━━━━━━━━━━━━\u001b[0m\u001b[37m\u001b[0m \u001b[1m69s\u001b[0m 219ms/step - accuracy: 0.9495 - loss: 0.1409 - val_accuracy: 0.8582 - val_loss: 0.4028\n",
      "Epoch 5/5\n",
      "\u001b[1m313/313\u001b[0m \u001b[32m━━━━━━━━━━━━━━━━━━━━\u001b[0m\u001b[37m\u001b[0m \u001b[1m70s\u001b[0m 222ms/step - accuracy: 0.9643 - loss: 0.1041 - val_accuracy: 0.8440 - val_loss: 0.4167\n",
      "\u001b[1m782/782\u001b[0m \u001b[32m━━━━━━━━━━━━━━━━━━━━\u001b[0m\u001b[37m\u001b[0m \u001b[1m37s\u001b[0m 47ms/step - accuracy: 0.8467 - loss: 0.4180\n",
      "Test accuracy: 84.668\n",
      "\u001b[1m1/1\u001b[0m \u001b[32m━━━━━━━━━━━━━━━━━━━━\u001b[0m\u001b[37m\u001b[0m \u001b[1m0s\u001b[0m 297ms/step\n",
      "Negative Review\n",
      "Actual Label: 0\n"
     ]
    }
   ],
   "source": [
    "import numpy as np\n",
    "import tensorflow as tf\n",
    "from tensorflow.keras.datasets import imdb\n",
    "from tensorflow.keras.preprocessing.sequence import pad_sequences\n",
    "from tensorflow.keras.models import Sequential\n",
    "from tensorflow.keras.layers import Embedding, LSTM, Dense\n",
    "\n",
    "# Hyperparameters\n",
    "num_words = 10000\n",
    "max_length = 200\n",
    "\n",
    "# Load dataset\n",
    "(xtr, ytr), (xte, yte) = imdb.load_data(num_words=num_words)\n",
    "\n",
    "# Pad sequences to uniform length\n",
    "xtr, xte = pad_sequences(xtr, maxlen=max_length), pad_sequences(xte, maxlen=max_length)\n",
    "\n",
    "# Define the model\n",
    "model = Sequential([\n",
    "    Embedding(input_dim=num_words, output_dim=128, input_length=max_length),\n",
    "    LSTM(128),\n",
    "    Dense(1, activation='sigmoid')\n",
    "])\n",
    "\n",
    "# Compile the model\n",
    "model.compile(optimizer='adam', loss='binary_crossentropy', metrics=['accuracy'])\n",
    "\n",
    "# Train the model\n",
    "model.fit(xtr, ytr, validation_split=0.2, epochs=5, batch_size=64)\n",
    "\n",
    "# Evaluate on test data\n",
    "loss, acc = model.evaluate(xte, yte)\n",
    "print(\"Test accuracy:\", round(acc * 100, 4))\n",
    "\n",
    "# Predict a single review\n",
    "test_seq = np.reshape(xte[7], (1, -1))\n",
    "pred = model.predict(test_seq)[0]\n",
    "\n",
    "if int(pred[0]) == 1:\n",
    "    print('Positive Review')\n",
    "else:\n",
    "    print('Negative Review')\n",
    "\n",
    "print(\"Actual Label:\", yte[7])\n"
   ]
  }
 ],
 "metadata": {
  "kernelspec": {
   "display_name": "Python (DL)",
   "language": "python",
   "name": "dl"
  },
  "language_info": {
   "codemirror_mode": {
    "name": "ipython",
    "version": 3
   },
   "file_extension": ".py",
   "mimetype": "text/x-python",
   "name": "python",
   "nbconvert_exporter": "python",
   "pygments_lexer": "ipython3",
   "version": "3.13.4"
  }
 },
 "nbformat": 4,
 "nbformat_minor": 5
}
